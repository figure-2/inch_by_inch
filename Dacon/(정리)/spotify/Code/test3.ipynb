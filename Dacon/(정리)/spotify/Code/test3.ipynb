{
 "cells": [
  {
   "cell_type": "code",
   "execution_count": 1,
   "metadata": {},
   "outputs": [
    {
     "name": "stdout",
     "output_type": "stream",
     "text": [
      "Requirement already satisfied: spotipy in /home/ubuntu/miniconda3/envs/4.5HZ/lib/python3.8/site-packages (2.23.0)\n",
      "Requirement already satisfied: redis>=3.5.3 in /home/ubuntu/miniconda3/envs/4.5HZ/lib/python3.8/site-packages (from spotipy) (5.0.1)\n",
      "Requirement already satisfied: requests>=2.25.0 in /home/ubuntu/miniconda3/envs/4.5HZ/lib/python3.8/site-packages (from spotipy) (2.31.0)\n",
      "Requirement already satisfied: six>=1.15.0 in /home/ubuntu/miniconda3/envs/4.5HZ/lib/python3.8/site-packages (from spotipy) (1.16.0)\n",
      "Requirement already satisfied: urllib3>=1.26.0 in /home/ubuntu/miniconda3/envs/4.5HZ/lib/python3.8/site-packages (from spotipy) (2.1.0)\n",
      "Requirement already satisfied: async-timeout>=4.0.2 in /home/ubuntu/miniconda3/envs/4.5HZ/lib/python3.8/site-packages (from redis>=3.5.3->spotipy) (4.0.3)\n",
      "Requirement already satisfied: charset-normalizer<4,>=2 in /home/ubuntu/miniconda3/envs/4.5HZ/lib/python3.8/site-packages (from requests>=2.25.0->spotipy) (3.3.2)\n",
      "Requirement already satisfied: idna<4,>=2.5 in /home/ubuntu/miniconda3/envs/4.5HZ/lib/python3.8/site-packages (from requests>=2.25.0->spotipy) (3.6)\n",
      "Requirement already satisfied: certifi>=2017.4.17 in /home/ubuntu/miniconda3/envs/4.5HZ/lib/python3.8/site-packages (from requests>=2.25.0->spotipy) (2023.11.17)\n"
     ]
    }
   ],
   "source": [
    "!pip install spotipy\n",
    "\n",
    "import spotipy\n",
    "from spotipy.oauth2 import SpotifyClientCredentials\n",
    "\n",
    "import pandas as pd\n",
    "import time\n",
    "import datetime\n",
    "import os\n",
    "\n",
    "# client_id='e08812d0ad874b53bb01e49ada6166ad'\n",
    "# client_secret='9085378d43d24d6c823a92c0f2cb03b5'\n",
    "\n",
    "# # # 민진님\n",
    "# # client_id = \"7a98ceda33624c9bb15bf7f877176e50\"\n",
    "# # client_secret = \"74fb60bce9d048e3a9faa52427e6d0f5\"\n",
    "\n",
    "# # 세인님\n",
    "# client_id = \"05c96c56746e49b9b26e2ccf9837c7b7\"\n",
    "# client_secret = \"98238151cd5e46df93049946ddd3673a\"\n",
    "\n",
    "# # 서브 1\n",
    "# client_id = \"55cc1bbf202640ee8a691ecab9be6e1d\"\n",
    "# client_secret = \"ef892d15d19543f4840c5ff069e6503c\"\n",
    "\n",
    "# # 서브 2\n",
    "# client_id = \"37211c9678ae40e6aed26be454135b1e\"\n",
    "# client_secret = \"031a960bb8bc4367a412f63d25f1f513\"\n",
    "\n",
    "# 서브 3\n",
    "client_id = \"4cda4cd5cf9a4877b55336bedbe21c9c\"\n",
    "client_secret = \"93bacd33bd494ec5bc76034f3705d502\"\n",
    "\n",
    "# # 서브 4\n",
    "# client_id = \"9e6e9e6622204dbe85e2553c9b026ed5\"\n",
    "# client_secret = \"b7b96ff10fae4077ab8912e1fb9d1f6b\"\n",
    "\n",
    "# # 서브 5\n",
    "# client_id = \"8e564786163d4a66a8e8d844955b9c2d\"\n",
    "# client_secret = \"7966e74a259d4fd9a3d689b54fd3d100\"\n",
    "\n",
    "client_credentials_manager = SpotifyClientCredentials(client_id=client_id, client_secret=client_secret)\n",
    "sp = spotipy.Spotify(client_credentials_manager=client_credentials_manager)"
   ]
  },
  {
   "cell_type": "code",
   "execution_count": 8,
   "metadata": {},
   "outputs": [
    {
     "name": "stdout",
     "output_type": "stream",
     "text": [
      "2019_k-pop: 다운로드\n"
     ]
    },
    {
     "ename": "KeyboardInterrupt",
     "evalue": "",
     "output_type": "error",
     "traceback": [
      "\u001b[0;31m---------------------------------------------------------------------------\u001b[0m",
      "\u001b[0;31mKeyboardInterrupt\u001b[0m                         Traceback (most recent call last)",
      "\u001b[1;32m/home/ubuntu/project/4.5HZ/Spotify API/test2.ipynb 셀 3\u001b[0m line \u001b[0;36m2\n\u001b[1;32m     <a href='vscode-notebook-cell://ssh-remote%2B7b22686f73744e616d65223a22342e35485a227d/home/ubuntu/project/4.5HZ/Spotify%20API/test2.ipynb#W2sdnNjb2RlLXJlbW90ZQ%3D%3D?line=16'>17</a>\u001b[0m \u001b[39mfor\u001b[39;00m genre \u001b[39min\u001b[39;00m genre_list:\n\u001b[1;32m     <a href='vscode-notebook-cell://ssh-remote%2B7b22686f73744e616d65223a22342e35485a227d/home/ubuntu/project/4.5HZ/Spotify%20API/test2.ipynb#W2sdnNjb2RlLXJlbW90ZQ%3D%3D?line=18'>19</a>\u001b[0m     \u001b[39mprint\u001b[39m(\u001b[39mf\u001b[39m\u001b[39m\"\u001b[39m\u001b[39m{\u001b[39;00myear\u001b[39m}\u001b[39;00m\u001b[39m_\u001b[39m\u001b[39m{\u001b[39;00mgenre\u001b[39m}\u001b[39;00m\u001b[39m: 다운로드\u001b[39m\u001b[39m\"\u001b[39m)\n\u001b[0;32m---> <a href='vscode-notebook-cell://ssh-remote%2B7b22686f73744e616d65223a22342e35485a227d/home/ubuntu/project/4.5HZ/Spotify%20API/test2.ipynb#W2sdnNjb2RlLXJlbW90ZQ%3D%3D?line=19'>20</a>\u001b[0m     time\u001b[39m.\u001b[39;49msleep(\u001b[39m360\u001b[39;49m)  \n\u001b[1;32m     <a href='vscode-notebook-cell://ssh-remote%2B7b22686f73744e616d65223a22342e35485a227d/home/ubuntu/project/4.5HZ/Spotify%20API/test2.ipynb#W2sdnNjb2RlLXJlbW90ZQ%3D%3D?line=21'>22</a>\u001b[0m     track_features_list \u001b[39m=\u001b[39m []\n\u001b[1;32m     <a href='vscode-notebook-cell://ssh-remote%2B7b22686f73744e616d65223a22342e35485a227d/home/ubuntu/project/4.5HZ/Spotify%20API/test2.ipynb#W2sdnNjb2RlLXJlbW90ZQ%3D%3D?line=23'>24</a>\u001b[0m     \u001b[39mfor\u001b[39;00m i \u001b[39min\u001b[39;00m \u001b[39mrange\u001b[39m(\u001b[39m0\u001b[39m, \u001b[39m1000\u001b[39m, \u001b[39m50\u001b[39m):\n",
      "\u001b[0;31mKeyboardInterrupt\u001b[0m: "
     ]
    }
   ],
   "source": [
    "import time\n",
    "import pandas as pd\n",
    "\n",
    "start_time = time.time()\n",
    "\n",
    "year_list = ['2014', '2013', '2012', '2011', '2010']\n",
    "\n",
    "            # '2023', '2022', '2021', '2020'\n",
    "            # '2019', '2018', '2017', '2016', '2015', '2014', '2013', '2012', '2011', '2010'\n",
    "            # '2009', '2008', '2007', '2006', '2005', '2004', '2003', '2002', '2001', '2000'\n",
    "            # '1999', '1998', '1997', '1996', '1995', '1994', '1993', '1992', '1991', '1990'\n",
    "            # '1989', '1988', '1987', '1986', '1985', '1984', '1983', '1982', '1981', '1980'\n",
    "\n",
    "for year in year_list:\n",
    "    \n",
    "    genre_list = ['k-pop', 'acoustic', 'dance', 'edm', 'disco', \n",
    "                'electronic', 'happy',  'hip-hop', 'jazz', 'party', \n",
    "                'pop', 'r-n-b', 'sad', 'rock', 'romance', \n",
    "                'sleep', 'study', 'soul', 'kids', 'classical']\n",
    "\n",
    "    timestamp = time.strftime(\"%Y%m%d-%H%M%S\")\n",
    "\n",
    "    for genre in genre_list:\n",
    "        \n",
    "        print(f\"{year}_{genre}: 다운로드\")\n",
    "        time.sleep(360)  \n",
    "        \n",
    "        track_features_list = []\n",
    "        \n",
    "        for i in range(0, 1000, 50):\n",
    "            \n",
    "            print(\"1차 요청 대기\")\n",
    "            time.sleep(60)\n",
    "            \n",
    "            track_results = sp.search(q=f'year:2023 genre:\"{genre}\"', type='track', limit=50, offset=i)\n",
    "            for j, t in enumerate(track_results['tracks']['items']):\n",
    "                \n",
    "                print(\"2차 요청 대기\")\n",
    "                time.sleep(60)  \n",
    "                \n",
    "                track_features = sp.audio_features([t['id']])\n",
    "                if track_features:\n",
    "                    track_features_list.append(track_features[0])\n",
    "                else:\n",
    "                    track_features_list.append(None)\n",
    "                #print(f\"Processing audio features for track {j+1}...\")\n",
    "\n",
    "                print(\"3차 요청 대기\")\n",
    "                time.sleep(60)\n",
    "               \n",
    "            \n",
    "        track_features_df = pd.DataFrame(track_features_list)\n",
    "        track_features_df = track_features_df.rename(columns={'id': 'track_id'})\n",
    "        track_features_df = track_features_df.drop(columns=['type', 'uri', 'track_href', 'analysis_url', 'duration_ms', 'time_signature'])\n",
    "        track_features_df.to_csv(f'/home/ubuntu/project/4.5HZ/Data/API_TOP/TOP_audio/2010년대/{year}_{genre}_audio_features_{timestamp}.csv', index=False)\n",
    "        \n",
    "    end_time = time.time()\n",
    "    print(f\"작업 소요 시간: {end_time - start_time} 초\")\n"
   ]
  },
  {
   "cell_type": "code",
   "execution_count": null,
   "metadata": {},
   "outputs": [],
   "source": []
  }
 ],
 "metadata": {
  "kernelspec": {
   "display_name": "base",
   "language": "python",
   "name": "python3"
  },
  "language_info": {
   "codemirror_mode": {
    "name": "ipython",
    "version": 3
   },
   "file_extension": ".py",
   "mimetype": "text/x-python",
   "name": "python",
   "nbconvert_exporter": "python",
   "pygments_lexer": "ipython3",
   "version": "3.8.18"
  }
 },
 "nbformat": 4,
 "nbformat_minor": 2
}
