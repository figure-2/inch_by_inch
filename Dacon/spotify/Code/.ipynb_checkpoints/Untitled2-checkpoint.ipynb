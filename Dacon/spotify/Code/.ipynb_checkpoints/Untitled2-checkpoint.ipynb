{
 "cells": [
  {
   "cell_type": "code",
   "execution_count": 9,
   "id": "3dfb80f5-971a-4825-954c-2a11d71ce71b",
   "metadata": {},
   "outputs": [
    {
     "name": "stdout",
     "output_type": "stream",
     "text": [
      "Requirement already satisfied: spotipy in c:\\users\\figure.2\\appdata\\local\\programs\\python\\python311\\lib\\site-packages (2.23.0)\n",
      "Requirement already satisfied: redis>=3.5.3 in c:\\users\\figure.2\\appdata\\local\\programs\\python\\python311\\lib\\site-packages (from spotipy) (5.0.1)\n",
      "Requirement already satisfied: requests>=2.25.0 in c:\\users\\figure.2\\appdata\\local\\programs\\python\\python311\\lib\\site-packages (from spotipy) (2.31.0)\n",
      "Requirement already satisfied: six>=1.15.0 in c:\\users\\figure.2\\appdata\\local\\programs\\python\\python311\\lib\\site-packages (from spotipy) (1.16.0)\n",
      "Requirement already satisfied: urllib3>=1.26.0 in c:\\users\\figure.2\\appdata\\local\\programs\\python\\python311\\lib\\site-packages (from spotipy) (2.0.4)\n",
      "Requirement already satisfied: charset-normalizer<4,>=2 in c:\\users\\figure.2\\appdata\\local\\programs\\python\\python311\\lib\\site-packages (from requests>=2.25.0->spotipy) (3.2.0)\n",
      "Requirement already satisfied: idna<4,>=2.5 in c:\\users\\figure.2\\appdata\\local\\programs\\python\\python311\\lib\\site-packages (from requests>=2.25.0->spotipy) (3.4)\n",
      "Requirement already satisfied: certifi>=2017.4.17 in c:\\users\\figure.2\\appdata\\local\\programs\\python\\python311\\lib\\site-packages (from requests>=2.25.0->spotipy) (2023.7.22)\n"
     ]
    }
   ],
   "source": [
    "!pip install spotipy\n",
    "\n",
    "import spotipy\n",
    "from spotipy.oauth2 import SpotifyClientCredentials\n",
    "\n",
    "import pandas as pd\n",
    "import time\n",
    "import datetime\n",
    "import os\n",
    "\n",
    "# client_id='e08812d0ad874b53bb01e49ada6166ad'\n",
    "# client_secret='9085378d43d24d6c823a92c0f2cb03b5'\n",
    "\n",
    "# # # 민진님\n",
    "# # client_id = \"7a98ceda33624c9bb15bf7f877176e50\"\n",
    "# # client_secret = \"74fb60bce9d048e3a9faa52427e6d0f5\"\n",
    "\n",
    "# # 세인님\n",
    "# client_id = \"05c96c56746e49b9b26e2ccf9837c7b7\"\n",
    "# client_secret = \"98238151cd5e46df93049946ddd3673a\"\n",
    "\n",
    "# # 서브 1\n",
    "# client_id = \"55cc1bbf202640ee8a691ecab9be6e1d\"\n",
    "# client_secret = \"ef892d15d19543f4840c5ff069e6503c\"\n",
    "\n",
    "# # 서브 2\n",
    "# client_id = \"37211c9678ae40e6aed26be454135b1e\"\n",
    "# client_secret = \"031a960bb8bc4367a412f63d25f1f513\"\n",
    "\n",
    "# 서브 3\n",
    "client_id = \"4cda4cd5cf9a4877b55336bedbe21c9c\"\n",
    "client_secret = \"93bacd33bd494ec5bc76034f3705d502\"\n",
    "\n",
    "# # 서브 4\n",
    "# client_id = \"9e6e9e6622204dbe85e2553c9b026ed5\"\n",
    "# client_secret = \"b7b96ff10fae4077ab8912e1fb9d1f6b\"\n",
    "\n",
    "# # 서브 5\n",
    "# client_id = \"8e564786163d4a66a8e8d844955b9c2d\"\n",
    "# client_secret = \"7966e74a259d4fd9a3d689b54fd3d100\"\n",
    "\n",
    "client_credentials_manager = SpotifyClientCredentials(client_id=client_id, client_secret=client_secret)\n",
    "sp = spotipy.Spotify(client_credentials_manager=client_credentials_manager)"
   ]
  },
  {
   "cell_type": "code",
   "execution_count": 10,
   "id": "93d44310-a339-4be6-b0c4-e7d717cae599",
   "metadata": {},
   "outputs": [],
   "source": [
    "artist_name =[]\n",
    "track_name = []\n",
    "track_popularity =[]\n",
    "artist_id =[]\n",
    "track_id =[]\n",
    "for i in range(0,1000,50):\n",
    "    track_results = sp.search(q='year:2023 genre:\"k-pop\"', type='track', limit=50, offset=i)\n",
    "    for i, t in enumerate(track_results['tracks']['items']):\n",
    "        artist_name.append(t['artists'][0]['name'])\n",
    "        artist_id.append(t['artists'][0]['id'])\n",
    "        track_name.append(t['name'])\n",
    "        track_id.append(t['id'])\n",
    "        track_popularity.append(t['popularity'])\n"
   ]
  },
  {
   "cell_type": "code",
   "execution_count": 11,
   "id": "35ce1f26-9ea6-4f4d-ba12-1b59a37fdd69",
   "metadata": {},
   "outputs": [
    {
     "name": "stdout",
     "output_type": "stream",
     "text": [
      "(1000, 5)\n"
     ]
    },
    {
     "data": {
      "text/html": [
       "<div>\n",
       "<style scoped>\n",
       "    .dataframe tbody tr th:only-of-type {\n",
       "        vertical-align: middle;\n",
       "    }\n",
       "\n",
       "    .dataframe tbody tr th {\n",
       "        vertical-align: top;\n",
       "    }\n",
       "\n",
       "    .dataframe thead th {\n",
       "        text-align: right;\n",
       "    }\n",
       "</style>\n",
       "<table border=\"1\" class=\"dataframe\">\n",
       "  <thead>\n",
       "    <tr style=\"text-align: right;\">\n",
       "      <th></th>\n",
       "      <th>artist_name</th>\n",
       "      <th>track_name</th>\n",
       "      <th>track_id</th>\n",
       "      <th>track_popularity</th>\n",
       "      <th>artist_id</th>\n",
       "    </tr>\n",
       "  </thead>\n",
       "  <tbody>\n",
       "    <tr>\n",
       "      <th>0</th>\n",
       "      <td>Jack Harlow</td>\n",
       "      <td>Lovin On Me</td>\n",
       "      <td>4xhsWYTOGcal8zt0J161CU</td>\n",
       "      <td>95</td>\n",
       "      <td>2LIk90788K0zvyj2JJVwkJ</td>\n",
       "    </tr>\n",
       "    <tr>\n",
       "      <th>1</th>\n",
       "      <td>Jung Kook</td>\n",
       "      <td>Standing Next to You</td>\n",
       "      <td>2KslE17cAJNHTsI2MI0jb2</td>\n",
       "      <td>98</td>\n",
       "      <td>6HaGTQPmzraVmaVxvz6EUc</td>\n",
       "    </tr>\n",
       "    <tr>\n",
       "      <th>2</th>\n",
       "      <td>Jimin</td>\n",
       "      <td>Like Crazy</td>\n",
       "      <td>3Ua0m0YmEjrMi9XErKcNiR</td>\n",
       "      <td>94</td>\n",
       "      <td>1oSPZhvZMIrWW5I41kPkkY</td>\n",
       "    </tr>\n",
       "    <tr>\n",
       "      <th>3</th>\n",
       "      <td>LE SSERAFIM</td>\n",
       "      <td>Perfect Night</td>\n",
       "      <td>74X2u8JMVooG2QbjRxXwR8</td>\n",
       "      <td>90</td>\n",
       "      <td>4SpbR6yFEvexJuaBpgAU5p</td>\n",
       "    </tr>\n",
       "    <tr>\n",
       "      <th>4</th>\n",
       "      <td>Jimin</td>\n",
       "      <td>Like Crazy</td>\n",
       "      <td>58BWnoFDNaeM0vwA0K3fqb</td>\n",
       "      <td>90</td>\n",
       "      <td>1oSPZhvZMIrWW5I41kPkkY</td>\n",
       "    </tr>\n",
       "  </tbody>\n",
       "</table>\n",
       "</div>"
      ],
      "text/plain": [
       "   artist_name            track_name                track_id  \\\n",
       "0  Jack Harlow           Lovin On Me  4xhsWYTOGcal8zt0J161CU   \n",
       "1    Jung Kook  Standing Next to You  2KslE17cAJNHTsI2MI0jb2   \n",
       "2        Jimin            Like Crazy  3Ua0m0YmEjrMi9XErKcNiR   \n",
       "3  LE SSERAFIM         Perfect Night  74X2u8JMVooG2QbjRxXwR8   \n",
       "4        Jimin            Like Crazy  58BWnoFDNaeM0vwA0K3fqb   \n",
       "\n",
       "   track_popularity               artist_id  \n",
       "0                95  2LIk90788K0zvyj2JJVwkJ  \n",
       "1                98  6HaGTQPmzraVmaVxvz6EUc  \n",
       "2                94  1oSPZhvZMIrWW5I41kPkkY  \n",
       "3                90  4SpbR6yFEvexJuaBpgAU5p  \n",
       "4                90  1oSPZhvZMIrWW5I41kPkkY  "
      ]
     },
     "execution_count": 11,
     "metadata": {},
     "output_type": "execute_result"
    }
   ],
   "source": [
    "import pandas as pd\n",
    "track_df = pd.DataFrame({'artist_name' : artist_name, 'track_name' : track_name, 'track_id' : track_id, 'track_popularity' : track_popularity, 'artist_id' : artist_id})\n",
    "print(track_df.shape)\n",
    "track_df.head()"
   ]
  },
  {
   "cell_type": "code",
   "execution_count": 12,
   "id": "55480c21-48f6-412f-b5cc-f211ec27aa26",
   "metadata": {},
   "outputs": [],
   "source": [
    "artist_popularity = []\n",
    "artist_genres = []\n",
    "artist_followers =[]\n",
    "for a_id in track_df.artist_id:\n",
    "    artist = sp.artist(a_id)\n",
    "    artist_popularity.append(artist['popularity'])\n",
    "    artist_genres.append(artist['genres'])\n",
    "    artist_followers.append(artist['followers']['total'])"
   ]
  },
  {
   "cell_type": "code",
   "execution_count": 13,
   "id": "f1c32a9b-3042-4342-ac9d-3ad2983b7838",
   "metadata": {},
   "outputs": [
    {
     "data": {
      "text/html": [
       "<div>\n",
       "<style scoped>\n",
       "    .dataframe tbody tr th:only-of-type {\n",
       "        vertical-align: middle;\n",
       "    }\n",
       "\n",
       "    .dataframe tbody tr th {\n",
       "        vertical-align: top;\n",
       "    }\n",
       "\n",
       "    .dataframe thead th {\n",
       "        text-align: right;\n",
       "    }\n",
       "</style>\n",
       "<table border=\"1\" class=\"dataframe\">\n",
       "  <thead>\n",
       "    <tr style=\"text-align: right;\">\n",
       "      <th></th>\n",
       "      <th>artist_name</th>\n",
       "      <th>track_name</th>\n",
       "      <th>track_id</th>\n",
       "      <th>track_popularity</th>\n",
       "      <th>artist_id</th>\n",
       "      <th>artist_popularity</th>\n",
       "      <th>artist_genres</th>\n",
       "      <th>artist_followers</th>\n",
       "    </tr>\n",
       "  </thead>\n",
       "  <tbody>\n",
       "    <tr>\n",
       "      <th>0</th>\n",
       "      <td>Jack Harlow</td>\n",
       "      <td>Lovin On Me</td>\n",
       "      <td>4xhsWYTOGcal8zt0J161CU</td>\n",
       "      <td>95</td>\n",
       "      <td>2LIk90788K0zvyj2JJVwkJ</td>\n",
       "      <td>83</td>\n",
       "      <td>[deep underground hip hop, kentucky hip hop, p...</td>\n",
       "      <td>3202916</td>\n",
       "    </tr>\n",
       "    <tr>\n",
       "      <th>1</th>\n",
       "      <td>Jung Kook</td>\n",
       "      <td>Standing Next to You</td>\n",
       "      <td>2KslE17cAJNHTsI2MI0jb2</td>\n",
       "      <td>98</td>\n",
       "      <td>6HaGTQPmzraVmaVxvz6EUc</td>\n",
       "      <td>89</td>\n",
       "      <td>[k-pop]</td>\n",
       "      <td>11646484</td>\n",
       "    </tr>\n",
       "    <tr>\n",
       "      <th>2</th>\n",
       "      <td>Jimin</td>\n",
       "      <td>Like Crazy</td>\n",
       "      <td>3Ua0m0YmEjrMi9XErKcNiR</td>\n",
       "      <td>94</td>\n",
       "      <td>1oSPZhvZMIrWW5I41kPkkY</td>\n",
       "      <td>81</td>\n",
       "      <td>[k-pop]</td>\n",
       "      <td>6977280</td>\n",
       "    </tr>\n",
       "    <tr>\n",
       "      <th>3</th>\n",
       "      <td>LE SSERAFIM</td>\n",
       "      <td>Perfect Night</td>\n",
       "      <td>74X2u8JMVooG2QbjRxXwR8</td>\n",
       "      <td>90</td>\n",
       "      <td>4SpbR6yFEvexJuaBpgAU5p</td>\n",
       "      <td>76</td>\n",
       "      <td>[k-pop girl group]</td>\n",
       "      <td>3711687</td>\n",
       "    </tr>\n",
       "    <tr>\n",
       "      <th>4</th>\n",
       "      <td>Jimin</td>\n",
       "      <td>Like Crazy</td>\n",
       "      <td>58BWnoFDNaeM0vwA0K3fqb</td>\n",
       "      <td>90</td>\n",
       "      <td>1oSPZhvZMIrWW5I41kPkkY</td>\n",
       "      <td>81</td>\n",
       "      <td>[k-pop]</td>\n",
       "      <td>6977280</td>\n",
       "    </tr>\n",
       "  </tbody>\n",
       "</table>\n",
       "</div>"
      ],
      "text/plain": [
       "   artist_name            track_name                track_id  \\\n",
       "0  Jack Harlow           Lovin On Me  4xhsWYTOGcal8zt0J161CU   \n",
       "1    Jung Kook  Standing Next to You  2KslE17cAJNHTsI2MI0jb2   \n",
       "2        Jimin            Like Crazy  3Ua0m0YmEjrMi9XErKcNiR   \n",
       "3  LE SSERAFIM         Perfect Night  74X2u8JMVooG2QbjRxXwR8   \n",
       "4        Jimin            Like Crazy  58BWnoFDNaeM0vwA0K3fqb   \n",
       "\n",
       "   track_popularity               artist_id  artist_popularity  \\\n",
       "0                95  2LIk90788K0zvyj2JJVwkJ                 83   \n",
       "1                98  6HaGTQPmzraVmaVxvz6EUc                 89   \n",
       "2                94  1oSPZhvZMIrWW5I41kPkkY                 81   \n",
       "3                90  4SpbR6yFEvexJuaBpgAU5p                 76   \n",
       "4                90  1oSPZhvZMIrWW5I41kPkkY                 81   \n",
       "\n",
       "                                       artist_genres  artist_followers  \n",
       "0  [deep underground hip hop, kentucky hip hop, p...           3202916  \n",
       "1                                            [k-pop]          11646484  \n",
       "2                                            [k-pop]           6977280  \n",
       "3                                 [k-pop girl group]           3711687  \n",
       "4                                            [k-pop]           6977280  "
      ]
     },
     "execution_count": 13,
     "metadata": {},
     "output_type": "execute_result"
    }
   ],
   "source": [
    "track_df = track_df.assign(artist_popularity=artist_popularity, artist_genres=artist_genres, artist_followers=artist_followers)\n",
    "track_df.head()"
   ]
  },
  {
   "cell_type": "code",
   "execution_count": null,
   "id": "976edb51-fcec-4651-a85b-e4fb311ffbef",
   "metadata": {},
   "outputs": [
    {
     "name": "stdout",
     "output_type": "stream",
     "text": [
      "다운로드\n"
     ]
    },
    {
     "name": "stderr",
     "output_type": "stream",
     "text": [
      "Max Retries reached\n"
     ]
    },
    {
     "name": "stdout",
     "output_type": "stream",
     "text": [
      "요청 속도 제한\n"
     ]
    },
    {
     "name": "stderr",
     "output_type": "stream",
     "text": [
      "Max Retries reached\n"
     ]
    },
    {
     "name": "stdout",
     "output_type": "stream",
     "text": [
      "요청 속도 제한\n"
     ]
    },
    {
     "name": "stderr",
     "output_type": "stream",
     "text": [
      "Max Retries reached\n"
     ]
    },
    {
     "name": "stdout",
     "output_type": "stream",
     "text": [
      "요청 속도 제한\n"
     ]
    },
    {
     "name": "stderr",
     "output_type": "stream",
     "text": [
      "Max Retries reached\n"
     ]
    },
    {
     "name": "stdout",
     "output_type": "stream",
     "text": [
      "요청 속도 제한\n"
     ]
    },
    {
     "name": "stderr",
     "output_type": "stream",
     "text": [
      "Max Retries reached\n"
     ]
    },
    {
     "name": "stdout",
     "output_type": "stream",
     "text": [
      "요청 속도 제한\n"
     ]
    },
    {
     "name": "stderr",
     "output_type": "stream",
     "text": [
      "Max Retries reached\n"
     ]
    },
    {
     "name": "stdout",
     "output_type": "stream",
     "text": [
      "요청 속도 제한\n"
     ]
    },
    {
     "name": "stderr",
     "output_type": "stream",
     "text": [
      "Max Retries reached\n"
     ]
    },
    {
     "name": "stdout",
     "output_type": "stream",
     "text": [
      "요청 속도 제한\n"
     ]
    },
    {
     "name": "stderr",
     "output_type": "stream",
     "text": [
      "Max Retries reached\n"
     ]
    },
    {
     "name": "stdout",
     "output_type": "stream",
     "text": [
      "요청 속도 제한\n"
     ]
    },
    {
     "name": "stderr",
     "output_type": "stream",
     "text": [
      "Max Retries reached\n"
     ]
    },
    {
     "name": "stdout",
     "output_type": "stream",
     "text": [
      "요청 속도 제한\n"
     ]
    },
    {
     "name": "stderr",
     "output_type": "stream",
     "text": [
      "Max Retries reached\n"
     ]
    },
    {
     "name": "stdout",
     "output_type": "stream",
     "text": [
      "요청 속도 제한\n"
     ]
    },
    {
     "name": "stderr",
     "output_type": "stream",
     "text": [
      "Max Retries reached\n"
     ]
    },
    {
     "name": "stdout",
     "output_type": "stream",
     "text": [
      "요청 속도 제한\n"
     ]
    },
    {
     "name": "stderr",
     "output_type": "stream",
     "text": [
      "Max Retries reached\n"
     ]
    },
    {
     "name": "stdout",
     "output_type": "stream",
     "text": [
      "요청 속도 제한\n"
     ]
    },
    {
     "name": "stderr",
     "output_type": "stream",
     "text": [
      "Max Retries reached\n"
     ]
    },
    {
     "name": "stdout",
     "output_type": "stream",
     "text": [
      "요청 속도 제한\n"
     ]
    },
    {
     "name": "stderr",
     "output_type": "stream",
     "text": [
      "Max Retries reached\n"
     ]
    },
    {
     "name": "stdout",
     "output_type": "stream",
     "text": [
      "요청 속도 제한\n"
     ]
    },
    {
     "name": "stderr",
     "output_type": "stream",
     "text": [
      "Max Retries reached\n"
     ]
    },
    {
     "name": "stdout",
     "output_type": "stream",
     "text": [
      "요청 속도 제한\n"
     ]
    },
    {
     "name": "stderr",
     "output_type": "stream",
     "text": [
      "Max Retries reached\n"
     ]
    },
    {
     "name": "stdout",
     "output_type": "stream",
     "text": [
      "요청 속도 제한\n"
     ]
    },
    {
     "name": "stderr",
     "output_type": "stream",
     "text": [
      "Max Retries reached\n"
     ]
    },
    {
     "name": "stdout",
     "output_type": "stream",
     "text": [
      "요청 속도 제한\n"
     ]
    },
    {
     "name": "stderr",
     "output_type": "stream",
     "text": [
      "Max Retries reached\n"
     ]
    },
    {
     "name": "stdout",
     "output_type": "stream",
     "text": [
      "요청 속도 제한\n"
     ]
    },
    {
     "name": "stderr",
     "output_type": "stream",
     "text": [
      "Max Retries reached\n"
     ]
    },
    {
     "name": "stdout",
     "output_type": "stream",
     "text": [
      "요청 속도 제한\n"
     ]
    },
    {
     "name": "stderr",
     "output_type": "stream",
     "text": [
      "Max Retries reached\n"
     ]
    },
    {
     "name": "stdout",
     "output_type": "stream",
     "text": [
      "요청 속도 제한\n"
     ]
    },
    {
     "name": "stderr",
     "output_type": "stream",
     "text": [
      "Max Retries reached\n"
     ]
    },
    {
     "name": "stdout",
     "output_type": "stream",
     "text": [
      "요청 속도 제한\n"
     ]
    },
    {
     "name": "stderr",
     "output_type": "stream",
     "text": [
      "Max Retries reached\n"
     ]
    },
    {
     "name": "stdout",
     "output_type": "stream",
     "text": [
      "요청 속도 제한\n"
     ]
    },
    {
     "name": "stderr",
     "output_type": "stream",
     "text": [
      "Max Retries reached\n"
     ]
    },
    {
     "name": "stdout",
     "output_type": "stream",
     "text": [
      "요청 속도 제한\n"
     ]
    },
    {
     "name": "stderr",
     "output_type": "stream",
     "text": [
      "Max Retries reached\n"
     ]
    },
    {
     "name": "stdout",
     "output_type": "stream",
     "text": [
      "요청 속도 제한\n"
     ]
    },
    {
     "name": "stderr",
     "output_type": "stream",
     "text": [
      "Max Retries reached\n"
     ]
    },
    {
     "name": "stdout",
     "output_type": "stream",
     "text": [
      "요청 속도 제한\n"
     ]
    },
    {
     "name": "stderr",
     "output_type": "stream",
     "text": [
      "Max Retries reached\n"
     ]
    },
    {
     "name": "stdout",
     "output_type": "stream",
     "text": [
      "요청 속도 제한\n"
     ]
    },
    {
     "name": "stderr",
     "output_type": "stream",
     "text": [
      "Max Retries reached\n"
     ]
    },
    {
     "name": "stdout",
     "output_type": "stream",
     "text": [
      "요청 속도 제한\n"
     ]
    }
   ],
   "source": [
    "print(\"다운로드\")\n",
    "time.sleep(300)  \n",
    "\n",
    "def get_track_features(track_id):\n",
    "    try:\n",
    "        af = sp.audio_features(track_id)\n",
    "        return af\n",
    "    except spotipy.SpotifyException as e:\n",
    "        if e.http_status == 429:\n",
    "            print(\"요청 속도 제한\")\n",
    "            time.sleep(30)\n",
    "            return get_track_features(track_id)\n",
    "        else:\n",
    "            raise\n",
    "\n",
    "track_features = []\n",
    "for t_id in track_df['track_id']:\n",
    "    af = get_track_features(t_id)\n",
    "    track_features.append(af)\n",
    "\n",
    "tf_df = pd.DataFrame(columns=['danceability', 'energy', 'key', 'loudness', 'mode', 'speechiness', 'acousticness', 'instrumentalness', 'liveness', 'valence', 'tempo', 'time_signature', 'id'])\n",
    "\n",
    "for item in track_features:\n",
    "    for feat in item:\n",
    "        tf_df = tf_df.append(feat, ignore_index=True)\n",
    "\n",
    "tf_df.head()"
   ]
  },
  {
   "cell_type": "code",
   "execution_count": null,
   "id": "d14930e2-38e6-4701-87d4-b75a1cc760c9",
   "metadata": {},
   "outputs": [],
   "source": []
  },
  {
   "cell_type": "code",
   "execution_count": null,
   "id": "7c96a2e1-51a3-4419-9d94-343c5c2aa77c",
   "metadata": {
    "scrolled": true
   },
   "outputs": [],
   "source": [
    "# print(\" 다운로드\")\n",
    "# time.sleep(300)  \n",
    "\n",
    "# track_features = []\n",
    "# for t_id in track_df['track_id']:\n",
    "#     af = sp.audio_features(t_id)\n",
    "#     track_features.append(af)\n",
    "# tf_df = pd.DataFrame(columns = ['danceability', 'energy', 'key', 'loudness', 'mode', 'speechiness', 'acousticness', 'instrumentalness', 'liveness', 'valence', 'tempo','time_signature', 'id' ])\n",
    "# for item in track_features:\n",
    "#     for feat in item:\n",
    "#         tf_df = tf_df.append(feat, ignore_index=True)\n",
    "# tf_df.head()"
   ]
  },
  {
   "cell_type": "code",
   "execution_count": null,
   "id": "f8e1cb18-1bde-433d-b80d-e762baedbd28",
   "metadata": {},
   "outputs": [],
   "source": []
  },
  {
   "cell_type": "code",
   "execution_count": null,
   "id": "e04626cb-01d9-4b10-88a6-6b6eb4f7a826",
   "metadata": {},
   "outputs": [],
   "source": []
  }
 ],
 "metadata": {
  "kernelspec": {
   "display_name": "Python 3 (ipykernel)",
   "language": "python",
   "name": "python3"
  },
  "language_info": {
   "codemirror_mode": {
    "name": "ipython",
    "version": 3
   },
   "file_extension": ".py",
   "mimetype": "text/x-python",
   "name": "python",
   "nbconvert_exporter": "python",
   "pygments_lexer": "ipython3",
   "version": "3.11.5"
  }
 },
 "nbformat": 4,
 "nbformat_minor": 5
}
