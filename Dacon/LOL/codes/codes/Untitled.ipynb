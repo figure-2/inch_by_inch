{
 "cells": [
  {
   "cell_type": "code",
   "execution_count": 2,
   "id": "1b152534-9729-47e9-b308-f6a376994a5c",
   "metadata": {},
   "outputs": [],
   "source": [
    "import pandas as pd"
   ]
  },
  {
   "cell_type": "code",
   "execution_count": 3,
   "id": "0b360aa8-d9cc-4591-b12e-3b205f7204af",
   "metadata": {},
   "outputs": [],
   "source": [
    "df = pd.read_csv(\"../data/gamedata_2023-09-22.csv\")"
   ]
  },
  {
   "cell_type": "code",
   "execution_count": 4,
   "id": "ba736bb5-818c-418f-9468-91389ebd9317",
   "metadata": {},
   "outputs": [],
   "source": [
    "clist = df.columns"
   ]
  },
  {
   "cell_type": "code",
   "execution_count": 5,
   "id": "6ffbc55f-e367-43fb-a9b4-4956fc199ddd",
   "metadata": {},
   "outputs": [
    {
     "data": {
      "text/plain": [
       "Index(['summonerName', 'championName', 'win', 'kills', 'deaths', 'assists',\n",
       "       'totalDamageDealtToChampions', 'allInPings', 'assistMePings',\n",
       "       'baitPings', 'baronKills', 'basicPings', 'bountyLevel',\n",
       "       'champExperience', 'champLevel', 'championId', 'championTransform',\n",
       "       'commandPings', 'consumablesPurchased', 'damageDealtToBuildings',\n",
       "       'damageDealtToObjectives', 'damageDealtToTurrets',\n",
       "       'damageSelfMitigated', 'dangerPings', 'detectorWardsPlaced',\n",
       "       'doubleKills', 'dragonKills', 'eligibleForProgression',\n",
       "       'enemyMissingPings', 'enemyVisionPings', 'firstBloodAssist',\n",
       "       'firstBloodKill', 'firstTowerAssist', 'firstTowerKill',\n",
       "       'gameEndedInEarlySurrender', 'gameEndedInSurrender', 'getBackPings',\n",
       "       'goldEarned', 'goldSpent', 'holdPings', 'individualPosition',\n",
       "       'inhibitorKills', 'inhibitorTakedowns', 'inhibitorsLost', 'item0',\n",
       "       'item1', 'item2', 'item3', 'item4', 'item5'],\n",
       "      dtype='object')"
      ]
     },
     "execution_count": 5,
     "metadata": {},
     "output_type": "execute_result"
    }
   ],
   "source": [
    "clist[:50]"
   ]
  },
  {
   "cell_type": "code",
   "execution_count": 6,
   "id": "f4d0bfa3-049e-48a8-8d43-c43578f34952",
   "metadata": {},
   "outputs": [
    {
     "data": {
      "text/plain": [
       "Index(['itemsPurchased', 'killingSprees', 'lane', 'largestCriticalStrike',\n",
       "       'largestKillingSpree', 'largestMultiKill', 'longestTimeSpentLiving',\n",
       "       'magicDamageDealt', 'magicDamageDealtToChampions', 'magicDamageTaken',\n",
       "       'needVisionPings', 'neutralMinionsKilled', 'nexusKills', 'nexusLost',\n",
       "       'nexusTakedowns', 'objectivesStolen', 'objectivesStolenAssists',\n",
       "       'onMyWayPings', 'participantId', 'pentaKills', 'perks',\n",
       "       'physicalDamageDealt', 'physicalDamageDealtToChampions',\n",
       "       'physicalDamageTaken', 'placement', 'playerAugment1', 'playerAugment2',\n",
       "       'playerAugment3', 'playerAugment4', 'playerSubteamId', 'profileIcon',\n",
       "       'pushPings', 'puuid', 'quadraKills', 'riotIdName', 'riotIdTagline',\n",
       "       'role', 'sightWardsBoughtInGame', 'spell1Casts', 'spell2Casts',\n",
       "       'spell3Casts', 'spell4Casts', 'subteamPlacement', 'summoner1Casts',\n",
       "       'summoner1Id', 'summoner2Casts', 'summoner2Id', 'summonerId',\n",
       "       'summonerLevel'],\n",
       "      dtype='object')"
      ]
     },
     "execution_count": 6,
     "metadata": {},
     "output_type": "execute_result"
    }
   ],
   "source": [
    "clist[51:100]"
   ]
  },
  {
   "cell_type": "code",
   "execution_count": 7,
   "id": "07070e8b-f64b-4f9c-9afd-166769221df9",
   "metadata": {},
   "outputs": [
    {
     "data": {
      "text/plain": [
       "Index(['teamId', 'teamPosition', 'timeCCingOthers', 'timePlayed',\n",
       "       'totalAllyJungleMinionsKilled', 'totalDamageDealt',\n",
       "       'totalDamageShieldedOnTeammates', 'totalDamageTaken',\n",
       "       'totalEnemyJungleMinionsKilled', 'totalHeal', 'totalHealsOnTeammates',\n",
       "       'totalMinionsKilled', 'totalTimeCCDealt', 'totalTimeSpentDead',\n",
       "       'totalUnitsHealed', 'tripleKills', 'trueDamageDealt',\n",
       "       'trueDamageDealtToChampions', 'trueDamageTaken', 'turretKills',\n",
       "       'turretTakedowns', 'turretsLost', 'unrealKills', 'visionClearedPings',\n",
       "       'visionScore', 'visionWardsBoughtInGame', 'wardsKilled', 'wardsPlaced',\n",
       "       '12AssistStreakCount', 'abilityUses', 'acesBefore15Minutes',\n",
       "       'alliedJungleMonsterKills', 'baronTakedowns',\n",
       "       'blastConeOppositeOpponentCount', 'bountyGold', 'buffsStolen',\n",
       "       'completeSupportQuestInTime', 'controlWardsPlaced', 'damagePerMinute',\n",
       "       'damageTakenOnTeamPercentage', 'dancedWithRiftHerald',\n",
       "       'deathsByEnemyChamps', 'dodgeSkillShotsSmallWindow', 'doubleAces',\n",
       "       'dragonTakedowns', 'earliestBaron', 'earlyLaningPhaseGoldExpAdvantage',\n",
       "       'effectiveHealAndShielding', 'elderDragonKillsWithOpposingSoul'],\n",
       "      dtype='object')"
      ]
     },
     "execution_count": 7,
     "metadata": {},
     "output_type": "execute_result"
    }
   ],
   "source": [
    "clist[101:150]"
   ]
  },
  {
   "cell_type": "code",
   "execution_count": 8,
   "id": "02232071-0b1c-4e9b-a0f7-840184fdac1d",
   "metadata": {},
   "outputs": [
    {
     "data": {
      "text/plain": [
       "Index(['enemyChampionImmobilizations', 'enemyJungleMonsterKills',\n",
       "       'epicMonsterKillsNearEnemyJungler',\n",
       "       'epicMonsterKillsWithin30SecondsOfSpawn', 'epicMonsterSteals',\n",
       "       'epicMonsterStolenWithoutSmite', 'firstTurretKilled',\n",
       "       'firstTurretKilledTime', 'flawlessAces', 'fullTeamTakedown',\n",
       "       'gameLength', 'getTakedownsInAllLanesEarlyJungleAsLaner',\n",
       "       'goldPerMinute', 'hadOpenNexus', 'immobilizeAndKillWithAlly',\n",
       "       'initialBuffCount', 'initialCrabCount', 'jungleCsBefore10Minutes',\n",
       "       'junglerTakedownsNearDamagedEpicMonster',\n",
       "       'kTurretsDestroyedBeforePlatesFall', 'kda', 'killAfterHiddenWithAlly',\n",
       "       'killParticipation', 'killedChampTookFullTeamDamageSurvived',\n",
       "       'killingSprees.1', 'killsNearEnemyTurret',\n",
       "       'killsOnOtherLanesEarlyJungleAsLaner',\n",
       "       'killsOnRecentlyHealedByAramPack', 'killsUnderOwnTurret',\n",
       "       'killsWithHelpFromEpicMonster', 'knockEnemyIntoTeamAndKill',\n",
       "       'landSkillShotsEarlyGame', 'laneMinionsFirst10Minutes',\n",
       "       'laningPhaseGoldExpAdvantage', 'legendaryCount', 'lostAnInhibitor',\n",
       "       'maxCsAdvantageOnLaneOpponent', 'maxKillDeficit',\n",
       "       'maxLevelLeadLaneOpponent', 'mejaisFullStackInTime',\n",
       "       'moreEnemyJungleThanOpponent', 'multiKillOneSpell',\n",
       "       'multiTurretRiftHeraldCount', 'multikills',\n",
       "       'multikillsAfterAggressiveFlash', 'outerTurretExecutesBefore10Minutes',\n",
       "       'outnumberedKills', 'outnumberedNexusKill', 'perfectDragonSoulsTaken'],\n",
       "      dtype='object')"
      ]
     },
     "execution_count": 8,
     "metadata": {},
     "output_type": "execute_result"
    }
   ],
   "source": [
    "clist[151:200]"
   ]
  },
  {
   "cell_type": "code",
   "execution_count": 9,
   "id": "6cb221c3-18cc-481d-9c85-6d1f19d23c0d",
   "metadata": {},
   "outputs": [
    {
     "data": {
      "text/plain": [
       "Index(['perfectGame', 'pickKillWithAlly', 'playedChampSelectPosition',\n",
       "       'poroExplosions', 'quickCleanse', 'quickFirstTurret', 'quickSoloKills',\n",
       "       'riftHeraldTakedowns', 'saveAllyFromDeath', 'scuttleCrabKills',\n",
       "       'shortestTimeToAceFromFirstTakedown', 'skillshotsDodged',\n",
       "       'skillshotsHit', 'snowballsHit', 'soloBaronKills', 'soloKills',\n",
       "       'stealthWardsPlaced', 'survivedSingleDigitHpCount',\n",
       "       'survivedThreeImmobilizesInFight', 'takedownOnFirstTurret', 'takedowns',\n",
       "       'takedownsAfterGainingLevelAdvantage',\n",
       "       'takedownsBeforeJungleMinionSpawn', 'takedownsFirstXMinutes',\n",
       "       'takedownsInAlcove', 'takedownsInEnemyFountain', 'teamBaronKills',\n",
       "       'teamDamagePercentage', 'teamElderDragonKills', 'teamRiftHeraldKills',\n",
       "       'teleportTakedowns', 'tookLargeDamageSurvived', 'turretPlatesTaken',\n",
       "       'turretTakedowns.1', 'turretsTakenWithRiftHerald',\n",
       "       'twentyMinionsIn3SecondsCount', 'twoWardsOneSweeperCount',\n",
       "       'unseenRecalls', 'visionScoreAdvantageLaneOpponent',\n",
       "       'visionScorePerMinute', 'wardTakedowns', 'wardTakedownsBefore20M',\n",
       "       'wardsGuarded', 'Unnamed: 243', 'Unnamed: 244', 'Unnamed: 245',\n",
       "       'Unnamed: 246', 'Unnamed: 247', 'Unnamed: 248'],\n",
       "      dtype='object')"
      ]
     },
     "execution_count": 9,
     "metadata": {},
     "output_type": "execute_result"
    }
   ],
   "source": [
    "clist[200:]"
   ]
  },
  {
   "cell_type": "code",
   "execution_count": null,
   "id": "cf6fca05-5347-4d32-b4a1-5f892a6416f5",
   "metadata": {},
   "outputs": [],
   "source": [
    "summonerName\n",
    "allInPings assistMePings baitPings basicPings bountyLevel champExperience championId championTransform commandPings consumablesPurchased\n",
    "damageDealtToTurrets dangerPings "
   ]
  },
  {
   "cell_type": "code",
   "execution_count": null,
   "id": "3aaaeda4-8aa8-4bbc-9acc-80bb0c6bd045",
   "metadata": {},
   "outputs": [],
   "source": [
    "kda/gpm/teamRiftHeraldKills/wardTakedowns/kills/deaths/assists/totalDamageDealtToChampions/baronKills/champLevel"
   ]
  },
  {
   "cell_type": "code",
   "execution_count": null,
   "id": "7bc51153-8920-42ad-9ccc-7f8604558e89",
   "metadata": {},
   "outputs": [],
   "source": [
    "kda/gpm/teamRiftHeraldKills/wardTakedowns/kills/deaths/assists/totalDamageDealtToChampions/baronKills/champLevel/damageDealtToBuildings/damageDealtToObjectives\n",
    "damageSelfMitigated/detectorWardsPlaced/doubleKills/dragonKills/firstBloodAssist/firstBloodKill/firstTowerAssist/firstTowerKill/\n",
    "goldSpent/goldSpent/individualPosition/inhibitorTakedowns/inhibitorKills/itemsPurchased/killingSprees/largestMultiKill/longestTimeSpentLiving/\n",
    "magicDamageDealtToChampions/physicalDamageDealtToChampions/quadraKills/totalAllyJungleMinionsKilled/totalEnemyJungleMinionsKilled/\n",
    "totalHeal/totalHealsOnTeammates/totalMinionsKilled/totalTimeCCDealt/tripleKills/trueDamageDealtToChampions/turretKills/visionScore/\n",
    "visionWardsBoughtInGame/wardsKilled/wardsPlaced"
   ]
  }
 ],
 "metadata": {
  "kernelspec": {
   "display_name": "Python 3 (ipykernel)",
   "language": "python",
   "name": "python3"
  },
  "language_info": {
   "codemirror_mode": {
    "name": "ipython",
    "version": 3
   },
   "file_extension": ".py",
   "mimetype": "text/x-python",
   "name": "python",
   "nbconvert_exporter": "python",
   "pygments_lexer": "ipython3",
   "version": "3.11.4"
  }
 },
 "nbformat": 4,
 "nbformat_minor": 5
}
